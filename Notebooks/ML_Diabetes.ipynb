{
 "cells": [
  {
   "cell_type": "markdown",
   "id": "72e93fb0",
   "metadata": {},
   "source": [
    "\n",
    "### Importing required libraries"
   ]
  },
  {
   "cell_type": "code",
   "execution_count": 34,
   "id": "3bfd61f1",
   "metadata": {},
   "outputs": [],
   "source": [
    "import pandas as pd\n",
    "import numpy as np\n",
    "from sklearn.model_selection import train_test_split\n",
    "from sklearn.tree import DecisionTreeClassifier\n",
    "from sklearn.ensemble import RandomForestClassifier\n",
    "from sklearn.metrics import accuracy_score, recall_score, fbeta_score\n",
    "import matplotlib.pyplot as plt"
   ]
  },
  {
   "cell_type": "markdown",
   "id": "7883ae09",
   "metadata": {},
   "source": [
    "### loading and splitting the dataset into training and test "
   ]
  },
  {
   "cell_type": "code",
   "execution_count": 35,
   "id": "65781f7f",
   "metadata": {},
   "outputs": [],
   "source": [
    "df = pd.read_csv('H:/diabetes.csv')\n",
    "\n",
    "X_train, X_test, y_train, y_test = train_test_split(df.drop('Outcome', axis=1), df['Outcome'], test_size=0.2, random_state=42)\n",
    "\n"
   ]
  },
  {
   "cell_type": "markdown",
   "id": "cab2c97f",
   "metadata": {},
   "source": [
    "### Decision Tree model training and evaluating  "
   ]
  },
  {
   "cell_type": "code",
   "execution_count": 36,
   "id": "f8cd60e4",
   "metadata": {},
   "outputs": [
    {
     "name": "stdout",
     "output_type": "stream",
     "text": [
      "Decision Tree accuracy: 0.7402597402597403\n",
      "Decision Tree F2 score: 0.6761565836298934\n"
     ]
    }
   ],
   "source": [
    "dtc = DecisionTreeClassifier()\n",
    "dtc.fit(X_train, y_train)\n",
    "dtc_pred = dtc.predict(X_test)\n",
    "dtc_acc = accuracy_score(y_test, dtc_pred)\n",
    "dtc_f2 = fbeta_score(y_test, dtc_pred, beta=2)\n",
    "print('Decision Tree accuracy:', dtc_acc)\n",
    "print('Decision Tree F2 score:', dtc_f2)\n",
    "\n"
   ]
  },
  {
   "cell_type": "markdown",
   "id": "a3ab7fca",
   "metadata": {},
   "source": [
    "### Random Forest model training and evaluating"
   ]
  },
  {
   "cell_type": "code",
   "execution_count": 37,
   "id": "529dab17",
   "metadata": {},
   "outputs": [
    {
     "name": "stdout",
     "output_type": "stream",
     "text": [
      "Random Forest accuracy: 0.7337662337662337\n",
      "Random Forest F2 score: 0.6204379562043796\n"
     ]
    }
   ],
   "source": [
    "rfc = RandomForestClassifier()\n",
    "rfc.fit(X_train, y_train)\n",
    "rfc_pred = rfc.predict(X_test)\n",
    "rfc_acc = accuracy_score(y_test, rfc_pred)\n",
    "rfc_recall = recall_score(y_test, rfc_pred)\n",
    "rfc_f2 = fbeta_score(y_test, rfc_pred, beta=2)\n",
    "print('Random Forest accuracy:', rfc_acc)\n",
    "\n",
    "print('Random Forest F2 score:', rfc_f2)"
   ]
  },
  {
   "cell_type": "markdown",
   "id": "72fd1b98",
   "metadata": {},
   "source": [
    "## Convolutional Neural Network"
   ]
  },
  {
   "cell_type": "markdown",
   "id": "13369add",
   "metadata": {},
   "source": [
    "###  Importing  modules from the Keras library "
   ]
  },
  {
   "cell_type": "code",
   "execution_count": 38,
   "id": "972314fe",
   "metadata": {},
   "outputs": [],
   "source": [
    "from keras.models import Sequential\n",
    "from keras.layers import Dense, Flatten, Conv1D"
   ]
  },
  {
   "cell_type": "markdown",
   "id": "54bd7bb5",
   "metadata": {},
   "source": [
    "### splitting the dataset into training and test"
   ]
  },
  {
   "cell_type": "code",
   "execution_count": 39,
   "id": "43a3a1fc",
   "metadata": {},
   "outputs": [],
   "source": [
    "X_train, X_test, y_train, y_test = train_test_split(df.drop('Outcome', axis=1), df['Outcome'], test_size=0.2, random_state=42)\n"
   ]
  },
  {
   "cell_type": "markdown",
   "id": "bf8ca2df",
   "metadata": {},
   "source": [
    "### Defining evaluation metrics function"
   ]
  },
  {
   "cell_type": "code",
   "execution_count": 40,
   "id": "bb0ab2e2",
   "metadata": {},
   "outputs": [],
   "source": [
    "def evaluate(y_true, y_pred):\n",
    "    accuracy = (y_true == y_pred).mean()\n",
    "    recall = recall_score(y_true, y_pred)\n",
    "    f2 = fbeta_score(y_true, y_pred, beta=2)\n",
    "    return accuracy, f2\n"
   ]
  },
  {
   "cell_type": "markdown",
   "id": "a45aa50c",
   "metadata": {},
   "source": [
    "### Convolutional Neural Network (CNN) training and evaluating"
   ]
  },
  {
   "cell_type": "code",
   "execution_count": 41,
   "id": "6e4cdd6d",
   "metadata": {},
   "outputs": [
    {
     "name": "stdout",
     "output_type": "stream",
     "text": [
      "CNN accuracy: 0.7077922077922078\n",
      "CNN F2 score: 0.625\n"
     ]
    }
   ],
   "source": [
    "cnn_model = Sequential()\n",
    "\n",
    "cnn_model.add(Conv1D(filters=64, kernel_size=3, activation='relu', input_shape=(8,1)))\n",
    "cnn_model.add(Conv1D(filters=64, kernel_size=3, activation='relu'))\n",
    "cnn_model.add(Flatten())\n",
    "cnn_model.add(Dense(100, activation='relu'))\n",
    "cnn_model.add(Dense(1, activation='sigmoid'))\n",
    "cnn_model.compile(loss='binary_crossentropy', optimizer='adam', metrics=['accuracy'])\n",
    "cnn_model.fit(X_train.values.reshape(-1, 8, 1), y_train, epochs=150, batch_size=10, verbose=0)\n",
    "cnn_model_pred = (dl_cnn.predict(X_test.values.reshape(-1, 8, 1)) > 0.5).astype(int).flatten()\n",
    "cnn_model_acc, cnn_model_f2 = evaluate(y_test, cnn_model_pred)\n",
    "\n",
    "print('CNN accuracy:', cnn_model_acc)\n",
    "\n",
    "print('CNN F2 score:', cnn_model_f2)\n"
   ]
  },
  {
   "cell_type": "markdown",
   "id": "f50d7a5c",
   "metadata": {},
   "source": [
    "### Visualizing the accuracy scores"
   ]
  },
  {
   "cell_type": "code",
   "execution_count": 42,
   "id": "9f7d42a9",
   "metadata": {},
   "outputs": [
    {
     "data": {
      "image/png": "[encoded data removed]",
      "text/plain": [
       "<Figure size 432x288 with 1 Axes>"
      ]
     },
     "metadata": {
      "needs_background": "light"
     },
     "output_type": "display_data"
    }
   ],
   "source": [
    "fig, ax = plt.subplots()\n",
    "ax.bar(['Decision Tree', 'Random Forest', 'CNN'], [dtc_acc, rf_acc, cnn_model_acc], color=['orange', 'blue', 'green'])\n",
    "ax.set_ylabel('Accuracy')\n",
    "ax.set_ylim([0, 1])\n",
    "ax.set_title('Model Accuracies')\n",
    "\n",
    "plt.show()"
   ]
  },
  {
   "cell_type": "code",
   "execution_count": null,
   "id": "e0f82cef",
   "metadata": {},
   "outputs": [],
   "source": []
  }
 ],
 "metadata": {
  "kernelspec": {
   "display_name": "Python 3 (ipykernel)",
   "language": "python",
   "name": "python3"
  },
  "language_info": {
   "codemirror_mode": {
    "name": "ipython",
    "version": 3
   },
   "file_extension": ".py",
   "mimetype": "text/x-python",
   "name": "python",
   "nbconvert_exporter": "python",
   "pygments_lexer": "ipython3",
   "version": "3.9.7"
  }
 },
 "nbformat": 4,
 "nbformat_minor": 5
}
